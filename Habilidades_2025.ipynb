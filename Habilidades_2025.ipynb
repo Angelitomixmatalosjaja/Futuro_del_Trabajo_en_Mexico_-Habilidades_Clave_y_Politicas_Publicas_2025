{
 "cells": [
  {
   "cell_type": "code",
   "execution_count": 1,
   "metadata": {},
   "outputs": [],
   "source": [
    "import pandas as pd\n",
    "import matplotlib.pyplot as plt\n",
    "import pandas as pd"
   ]
  },
  {
   "cell_type": "code",
   "execution_count": 2,
   "metadata": {},
   "outputs": [],
   "source": [
    "file_path = '/Users/joseangelmercadovazquez/Downloads/WEF_Future_of_Jobs_Report_2025.pdf'"
   ]
  },
  {
   "cell_type": "code",
   "execution_count": 3,
   "metadata": {},
   "outputs": [],
   "source": [
    "tablas_todas = []"
   ]
  },
  {
   "cell_type": "code",
   "execution_count": 4,
   "metadata": {},
   "outputs": [
    {
     "name": "stdout",
     "output_type": "stream",
     "text": [
      "Datos de habilidades clave guardados en 'habilidades_clave.csv'\n"
     ]
    }
   ],
   "source": [
    "habilidades_clave = {\n",
    "    \"Habilidad\" : [\n",
    "        \"Inteligencia Artificial\", \"Big Data\", \"Pensamiento Creativo\", \"Resiliencia\", \"Ciberseguridad\", \"Liderazgo Social\", \"Colaboracion Digital\", \"Analisis Critico\", \"Comunicación Efectiva\", \"Adaptabilidad\"],\n",
    "    \"Empleadores que la consideran importante\" : [93, 90, 77, 73, 73, 70, 68, 65, 63, 62],\n",
    "    \"Sector Prioritario\" : ['Automotriz, Telecomunicaciones', 'Finanzas, Telecomunicaciones', 'Seguros, Pensiones', 'Agricultura, Salud', 'Multisectorial', 'Seguros, Pensiones', 'Servicios profesionales', 'Educacion, Gobierno', 'Todas', 'Agricultura, Servicios'],\n",
    "    \"Tendencia\" : ['Creciente', 'Creciente', 'Creciente', 'Estable', 'Creciente', 'Creciente', 'Creciente', 'Estable', 'Permanente', 'Estable']\n",
    "}\n",
    "df_habilidades = pd.DataFrame(habilidades_clave)\n",
    "df_habilidades.to_csv('habilidades_clave.csv', index=False)\n",
    "print(\"Datos de habilidades clave guardados en 'habilidades_clave.csv'\")"
   ]
  },
  {
   "cell_type": "code",
   "execution_count": 5,
   "metadata": {},
   "outputs": [],
   "source": [
    "tendencias_tecnologicas = {\n",
    "    \"Tendencia\": [\n",
    "        \"Acceso Digital Ampliado\",\n",
    "        \"Inversiones para Mitigar Cambio Climático\",\n",
    "        \"Automatización Acelerada\",\n",
    "        \"Uso Creciente de Robótica\",\n",
    "        \"Foco en Salud y Bienestar\",\n",
    "        \"Economía Circular\"\n",
    "    ],\n",
    "    \"% Empresas que la Adoptan\": [95, 82, 82, 63, 58, 47],\n",
    "    \"Descripción Detallada\": [\n",
    "        \"Incremento en infraestructura digital y acceso a internet para empleados y clientes\",\n",
    "        \"Proyectos y tecnología para reducción de emisiones y adaptación a nuevas regulaciones ambientales\",\n",
    "        \"Uso creciente de tecnologías para automatizar procesos repetitivos y operativos\",\n",
    "        \"Implementación de robots para tareas en manufactura, logística y atención al cliente\",\n",
    "        \"Programas para mejorar la salud mental y física de empleados\",\n",
    "        \"Estrategias para reutilizar y reciclar materiales en la producción\"\n",
    "    ],\n",
    "    \"Ejemplo de Aplicación\": [\n",
    "        \"Plataformas de e-learning y teletrabajo\",\n",
    "        \"Energías renovables y eficiencia energética\",\n",
    "        \"Robots industriales y RPA (automatización de procesos)\",\n",
    "        \"Robots en líneas de producción y almacenes\",\n",
    "        \"Apps de mindfulness y ergonomía\",\n",
    "        \"Procesos de reciclaje y reducción de desperdicios\"\n",
    "    ]\n",
    "}\n",
    "\n",
    "df_tendencias = pd.DataFrame(tendencias_tecnologicas)\n",
    "df_tendencias.to_csv(\"tendencias_empresas.csv\", index=False)"
   ]
  },
  {
   "cell_type": "code",
   "execution_count": 6,
   "metadata": {},
   "outputs": [],
   "source": [
    "politicas_publicas = {\n",
    "    \"Política\": [\n",
    "        \"Financiamiento para Capacitación\",\n",
    "        \"Flexibilidad en Contratación\",\n",
    "        \"Mejoras en Educación Pública\",\n",
    "        \"Programas de Reciclaje de Habilidades\",\n",
    "        \"Incentivos a Innovación\",\n",
    "        \"Apoyo a Emprendimiento\"\n",
    "    ],\n",
    "    \"% Empresas que la Apoyan\": [51, 49, 48, 40, 38, 35],\n",
    "    \"Descripción\": [\n",
    "        \"Subsidios y apoyos para programas de mejora y actualización de habilidades\",\n",
    "        \"Legislación que facilite la contratación y el despido de trabajadores\",\n",
    "        \"Inversión en infraestructura, calidad docente y actualización de planes de estudio\",\n",
    "        \"Cursos y certificaciones para que trabajadores actualicen competencias\",\n",
    "        \"Estímulos fiscales o apoyos para empresas que invierten en innovación y tecnología\",\n",
    "        \"Programas para facilitar la creación y crecimiento de nuevas empresas\"\n",
    "    ],\n",
    "    \"Impacto Esperado\": [\n",
    "        \"Mejora de productividad y reducción de brechas\",\n",
    "        \"Dinamismo laboral y adaptación a ciclos económicos\",\n",
    "        \"Formación de talento mejor alineado al mercado\",\n",
    "        \"Adaptación continua y retención de talento\",\n",
    "        \"Mayor competitividad y crecimiento económico\",\n",
    "        \"Diversificación y dinamismo económico\"\n",
    "    ]\n",
    "}\n",
    "\n",
    "df_politicas = pd.DataFrame(politicas_publicas)\n",
    "df_politicas.to_csv(\"politicas_publicas_talento.csv\", index=False)\n"
   ]
  },
  {
   "cell_type": "code",
   "execution_count": 7,
   "metadata": {},
   "outputs": [],
   "source": [
    "proyecciones_habilidades = {\n",
    "    \"Región\": [\"México\", \"Global\", \"América Latina\", \"Europa\"],\n",
    "    \"% Habilidades que Cambiarán en 5 años\": [40, 39, 41, 37],\n",
    "    \"Áreas de Mayor Cambio\": [\n",
    "        \"Inteligencia Artificial, Big Data, Resiliencia\",\n",
    "        \"Inteligencia Artificial, Automatización, Pensamiento Creativo\",\n",
    "        \"Adaptabilidad, Ciberseguridad, Liderazgo Social\",\n",
    "        \"Innovación, Economía Verde, Salud Digital\"\n",
    "    ],\n",
    "    \"Comentarios\": [\n",
    "        \"Necesidad urgente de actualización\",\n",
    "        \"Tendencias similares pero México algo más acelerado\",\n",
    "        \"Fuerte demanda por habilidades blandas\",\n",
    "        \"Enfoque en sostenibilidad y bienestar\"\n",
    "    ]\n",
    "}\n",
    "\n",
    "df_proyecciones = pd.DataFrame(proyecciones_habilidades)\n",
    "df_proyecciones.to_csv(\"proyecciones_habilidades.csv\", index=False)\n"
   ]
  }
 ],
 "metadata": {
  "kernelspec": {
   "display_name": "Python 3",
   "language": "python",
   "name": "python3"
  },
  "language_info": {
   "codemirror_mode": {
    "name": "ipython",
    "version": 3
   },
   "file_extension": ".py",
   "mimetype": "text/x-python",
   "name": "python",
   "nbconvert_exporter": "python",
   "pygments_lexer": "ipython3",
   "version": "3.12.8"
  }
 },
 "nbformat": 4,
 "nbformat_minor": 2
}
